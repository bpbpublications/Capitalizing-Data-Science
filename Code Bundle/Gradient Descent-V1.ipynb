{
 "cells": [
  {
   "cell_type": "markdown",
   "metadata": {},
   "source": [
    "## Explaining Gradiet Descent algorithm for prediction using python codes"
   ]
  },
  {
   "cell_type": "markdown",
   "metadata": {},
   "source": [
    "#### Reading needed Libraries"
   ]
  },
  {
   "cell_type": "code",
   "execution_count": 1,
   "metadata": {},
   "outputs": [],
   "source": [
    "# code 4.1\n",
    "import pandas as pd\n",
    "import numpy as np"
   ]
  },
  {
   "cell_type": "markdown",
   "metadata": {},
   "source": [
    "### Read needed file and convert variables"
   ]
  },
  {
   "cell_type": "code",
   "execution_count": 2,
   "metadata": {},
   "outputs": [],
   "source": [
    "## giving referece to file location\n",
    "file1 = \"data_gd.csv\""
   ]
  },
  {
   "cell_type": "code",
   "execution_count": 3,
   "metadata": {},
   "outputs": [
    {
     "data": {
      "text/plain": [
       "<function pandas.io.parsers.read_csv(filepath_or_buffer:Union[str, pathlib.Path, IO[~AnyStr]], sep=',', delimiter=None, header='infer', names=None, index_col=None, usecols=None, squeeze=False, prefix=None, mangle_dupe_cols=True, dtype=None, engine=None, converters=None, true_values=None, false_values=None, skipinitialspace=False, skiprows=None, skipfooter=0, nrows=None, na_values=None, keep_default_na=True, na_filter=True, verbose=False, skip_blank_lines=True, parse_dates=False, infer_datetime_format=False, keep_date_col=False, date_parser=None, dayfirst=False, cache_dates=True, iterator=False, chunksize=None, compression='infer', thousands=None, decimal:str='.', lineterminator=None, quotechar='\"', quoting=0, doublequote=True, escapechar=None, comment=None, encoding=None, dialect=None, error_bad_lines=True, warn_bad_lines=True, delim_whitespace=False, low_memory=True, memory_map=False, float_precision=None)>"
      ]
     },
     "execution_count": 3,
     "metadata": {},
     "output_type": "execute_result"
    }
   ],
   "source": [
    "pd.read_csv"
   ]
  },
  {
   "cell_type": "code",
   "execution_count": 4,
   "metadata": {},
   "outputs": [],
   "source": [
    "## code 4.2\n",
    "##read file\n",
    "\n",
    "df1 = pd.read_csv(file1)\n",
    "\n",
    "###covert float for numeric calculations\n",
    "df1[\"age\"] = df1[\"age\"].astype('float')\n",
    "df1[\"experience\"] = df1[\"experience\"].astype('float')\n",
    "df1[\"amount in lakhs\"] = df1[\"amount in lakhs\"].astype('float')"
   ]
  },
  {
   "cell_type": "markdown",
   "metadata": {},
   "source": [
    "### scaling values using z=X-mean/standard deviation"
   ]
  },
  {
   "cell_type": "code",
   "execution_count": 5,
   "metadata": {},
   "outputs": [],
   "source": [
    "## code 4.3\n",
    "def scale_vals(dataframe,col1):\n",
    "    \n",
    "    mean1 = np.average(dataframe[col1])\n",
    "    stdev = np.std(dataframe[col1])\n",
    "    col2 = col1 +\"_std\"\n",
    "    dataframe[col2] = (dataframe[col1]-mean1)/stdev\n",
    "    \n",
    "    std_vals = {}\n",
    "    std_vals[\"mean1\"] = mean1\n",
    "    std_vals[\"stdev\"] = stdev\n",
    "    \n",
    "    return std_vals,dataframe\n",
    "\n",
    "\n",
    "dict1 = {}\n",
    "dict1[\"age\"],df1= scale_vals(df1,\"age\")\n",
    "dict1[\"experience\"],df1= scale_vals(df1,\"experience\")\n",
    "dict1[\"amount in lakhs\"],df1 = scale_vals(df1,\"amount in lakhs\")"
   ]
  },
  {
   "cell_type": "code",
   "execution_count": 6,
   "metadata": {},
   "outputs": [
    {
     "name": "stdout",
     "output_type": "stream",
     "text": [
      "age {'mean1': 35.0, 'stdev': 10.21763181955584}\n",
      "exp {'mean1': 8.2, 'stdev': 3.8418745424597094}\n",
      "income {'mean1': 38.7, 'stdev': 21.04305110957059}\n"
     ]
    }
   ],
   "source": [
    "print (\"age\",dict1[\"age\"])\n",
    "print (\"exp\",dict1[\"experience\"])\n",
    "print (\"income\",dict1[\"amount in lakhs\"])"
   ]
  },
  {
   "cell_type": "code",
   "execution_count": 7,
   "metadata": {},
   "outputs": [
    {
     "data": {
      "text/html": [
       "<div>\n",
       "<style scoped>\n",
       "    .dataframe tbody tr th:only-of-type {\n",
       "        vertical-align: middle;\n",
       "    }\n",
       "\n",
       "    .dataframe tbody tr th {\n",
       "        vertical-align: top;\n",
       "    }\n",
       "\n",
       "    .dataframe thead th {\n",
       "        text-align: right;\n",
       "    }\n",
       "</style>\n",
       "<table border=\"1\" class=\"dataframe\">\n",
       "  <thead>\n",
       "    <tr style=\"text-align: right;\">\n",
       "      <th></th>\n",
       "      <th>age</th>\n",
       "      <th>experience</th>\n",
       "      <th>amount in lakhs</th>\n",
       "      <th>age_std</th>\n",
       "      <th>experience_std</th>\n",
       "      <th>amount in lakhs_std</th>\n",
       "    </tr>\n",
       "  </thead>\n",
       "  <tbody>\n",
       "    <tr>\n",
       "      <th>0</th>\n",
       "      <td>23.0</td>\n",
       "      <td>3.0</td>\n",
       "      <td>13.0</td>\n",
       "      <td>-1.17444</td>\n",
       "      <td>-1.353506</td>\n",
       "      <td>-1.221306</td>\n",
       "    </tr>\n",
       "    <tr>\n",
       "      <th>1</th>\n",
       "      <td>40.0</td>\n",
       "      <td>10.0</td>\n",
       "      <td>75.0</td>\n",
       "      <td>0.48935</td>\n",
       "      <td>0.468521</td>\n",
       "      <td>1.725035</td>\n",
       "    </tr>\n",
       "    <tr>\n",
       "      <th>2</th>\n",
       "      <td>30.0</td>\n",
       "      <td>4.0</td>\n",
       "      <td>40.0</td>\n",
       "      <td>-0.48935</td>\n",
       "      <td>-1.093216</td>\n",
       "      <td>0.061778</td>\n",
       "    </tr>\n",
       "    <tr>\n",
       "      <th>3</th>\n",
       "      <td>41.0</td>\n",
       "      <td>9.0</td>\n",
       "      <td>45.0</td>\n",
       "      <td>0.58722</td>\n",
       "      <td>0.208232</td>\n",
       "      <td>0.299386</td>\n",
       "    </tr>\n",
       "    <tr>\n",
       "      <th>4</th>\n",
       "      <td>47.0</td>\n",
       "      <td>11.0</td>\n",
       "      <td>52.0</td>\n",
       "      <td>1.17444</td>\n",
       "      <td>0.728811</td>\n",
       "      <td>0.632038</td>\n",
       "    </tr>\n",
       "  </tbody>\n",
       "</table>\n",
       "</div>"
      ],
      "text/plain": [
       "    age  experience  amount in lakhs  age_std  experience_std  \\\n",
       "0  23.0         3.0             13.0 -1.17444       -1.353506   \n",
       "1  40.0        10.0             75.0  0.48935        0.468521   \n",
       "2  30.0         4.0             40.0 -0.48935       -1.093216   \n",
       "3  41.0         9.0             45.0  0.58722        0.208232   \n",
       "4  47.0        11.0             52.0  1.17444        0.728811   \n",
       "\n",
       "   amount in lakhs_std  \n",
       "0            -1.221306  \n",
       "1             1.725035  \n",
       "2             0.061778  \n",
       "3             0.299386  \n",
       "4             0.632038  "
      ]
     },
     "execution_count": 7,
     "metadata": {},
     "output_type": "execute_result"
    }
   ],
   "source": [
    "## transformed dataset\n",
    "df1.head()"
   ]
  },
  {
   "cell_type": "markdown",
   "metadata": {},
   "source": [
    "### Gradient Descent Algorithm in Python"
   ]
  },
  {
   "cell_type": "code",
   "execution_count": 8,
   "metadata": {},
   "outputs": [],
   "source": [
    "## code 4.4\n",
    "###Initialize weights & learning rate\n",
    "w1 = 1\n",
    "w2= 5.3 \n",
    "w3 = 3\n",
    "initial_weights = [w1,w2,w3]\n",
    "lr = 0.001\n",
    "\n",
    "err_lists_all = []\n",
    "grad_lists_all = []\n",
    "weight_lists_all = []\n",
    "pred_lists_all = []\n",
    "\n",
    "weight_lists_all.append(initial_weights)\n",
    "\n",
    "###iterate over many iterations\n",
    "for j in range(0,1000):\n",
    "    pred_list = []\n",
    "    error_list = []\n",
    "        \n",
    "    grad_age_list = []\n",
    "    grad_exp_list = []\n",
    "    grad_bias_list = []\n",
    "\n",
    "###For each iteration,caluclate error with current weights, \n",
    "###calculate gradient and update weights\n",
    "\n",
    "    for i,row in df1.iterrows():\n",
    "        age = row[\"age_std\"]\n",
    "        experience = row[\"experience_std\"]\n",
    "        act = row[\"amount in lakhs_std\"]\n",
    "        \n",
    "        \n",
    "        ###predict and compute errors\n",
    "        pred1 = np.round((age * w1) + (experience * w2) + w3,4)\n",
    "        error = np.power((act-pred1),2)*1/2\n",
    "        \n",
    "        pred_list.append(pred1)\n",
    "        error_list.append(error)\n",
    "        \n",
    "        ###calculate gradients\n",
    "        grad_age = np.round(-(act-pred1) * age,4)\n",
    "        grad_exp = np.round(-(act-pred1) * experience,4)\n",
    "        grad_bias = np.round( -(act-pred1),4)\n",
    "        \n",
    "        \n",
    "        grad_age_list.append(grad_age)\n",
    "        grad_exp_list.append(grad_exp)\n",
    "        grad_bias_list.append(grad_bias)\n",
    "    \n",
    "    ###Calculate sum of gradients\n",
    "    grad_age_sum = sum(grad_age_list)\n",
    "    grad_exp_sum = sum(grad_exp_list)\n",
    "    grad_bias_sum = sum(grad_bias_list)\n",
    "    \n",
    "    ###update weights\n",
    "    w1 = np.round(w1 - lr*grad_age_sum,4)\n",
    "    w2 = np.round(w1 - lr*grad_exp_sum,4)\n",
    "    w3 = np.round(w1 - lr*grad_bias_sum,4)\n",
    "    \n",
    "    ###log errors, gradients, weights and predictions\n",
    "    err_sum = sum(error_list)\n",
    "    err_lists_all.append(err_sum)\n",
    "    grad_lists_all.append([grad_age_sum,grad_exp_sum,grad_bias_sum])\n",
    "    weight_lists_all.append([w1,w2,w3])\n",
    "    pred_lists_all.append(pred_list)\n",
    "    \n",
    "\n",
    "        "
   ]
  },
  {
   "cell_type": "code",
   "execution_count": 9,
   "metadata": {},
   "outputs": [],
   "source": [
    "## code 4.5\n",
    "###create ml dataset\n",
    "ml_dataset = pd.DataFrame(err_lists_all,columns=['errors'])\n",
    "ml_dataset[\"gradients\"] = grad_lists_all\n",
    "ml_dataset[\"weights\"] = weight_lists_all[:-1]\n"
   ]
  },
  {
   "cell_type": "code",
   "execution_count": 10,
   "metadata": {},
   "outputs": [],
   "source": [
    "ml_dataset[\"ind\"] = ml_dataset.index"
   ]
  },
  {
   "cell_type": "code",
   "execution_count": 11,
   "metadata": {},
   "outputs": [
    {
     "data": {
      "text/html": [
       "<div>\n",
       "<style scoped>\n",
       "    .dataframe tbody tr th:only-of-type {\n",
       "        vertical-align: middle;\n",
       "    }\n",
       "\n",
       "    .dataframe tbody tr th {\n",
       "        vertical-align: top;\n",
       "    }\n",
       "\n",
       "    .dataframe thead th {\n",
       "        text-align: right;\n",
       "    }\n",
       "</style>\n",
       "<table border=\"1\" class=\"dataframe\">\n",
       "  <thead>\n",
       "    <tr style=\"text-align: right;\">\n",
       "      <th></th>\n",
       "      <th>errors</th>\n",
       "      <th>gradients</th>\n",
       "      <th>weights</th>\n",
       "      <th>ind</th>\n",
       "    </tr>\n",
       "  </thead>\n",
       "  <tbody>\n",
       "    <tr>\n",
       "      <th>0</th>\n",
       "      <td>209.698533</td>\n",
       "      <td>[50.708, 56.28690000000001, 29.9999]</td>\n",
       "      <td>[1, 5.3, 3]</td>\n",
       "      <td>0</td>\n",
       "    </tr>\n",
       "    <tr>\n",
       "      <th>1</th>\n",
       "      <td>17.267911</td>\n",
       "      <td>[13.714300000000001, 11.7973, 9.193]</td>\n",
       "      <td>[0.9493, 0.893, 0.9193]</td>\n",
       "      <td>1</td>\n",
       "    </tr>\n",
       "    <tr>\n",
       "      <th>2</th>\n",
       "      <td>17.511327</td>\n",
       "      <td>[13.832499999999998, 11.9918, 9.264200000000002]</td>\n",
       "      <td>[0.9356, 0.9238, 0.9264]</td>\n",
       "      <td>2</td>\n",
       "    </tr>\n",
       "    <tr>\n",
       "      <th>3</th>\n",
       "      <td>17.027786</td>\n",
       "      <td>[13.578399999999998, 11.7374, 9.1249]</td>\n",
       "      <td>[0.9218, 0.9098, 0.9125]</td>\n",
       "      <td>3</td>\n",
       "    </tr>\n",
       "    <tr>\n",
       "      <th>4</th>\n",
       "      <td>16.568952</td>\n",
       "      <td>[13.332299999999998, 11.4919, 8.991000000000001]</td>\n",
       "      <td>[0.9082, 0.8965, 0.8991]</td>\n",
       "      <td>4</td>\n",
       "    </tr>\n",
       "  </tbody>\n",
       "</table>\n",
       "</div>"
      ],
      "text/plain": [
       "       errors                                         gradients  \\\n",
       "0  209.698533              [50.708, 56.28690000000001, 29.9999]   \n",
       "1   17.267911              [13.714300000000001, 11.7973, 9.193]   \n",
       "2   17.511327  [13.832499999999998, 11.9918, 9.264200000000002]   \n",
       "3   17.027786             [13.578399999999998, 11.7374, 9.1249]   \n",
       "4   16.568952  [13.332299999999998, 11.4919, 8.991000000000001]   \n",
       "\n",
       "                    weights  ind  \n",
       "0               [1, 5.3, 3]    0  \n",
       "1   [0.9493, 0.893, 0.9193]    1  \n",
       "2  [0.9356, 0.9238, 0.9264]    2  \n",
       "3  [0.9218, 0.9098, 0.9125]    3  \n",
       "4  [0.9082, 0.8965, 0.8991]    4  "
      ]
     },
     "execution_count": 11,
     "metadata": {},
     "output_type": "execute_result"
    }
   ],
   "source": [
    "ml_dataset.head()"
   ]
  },
  {
   "cell_type": "markdown",
   "metadata": {},
   "source": [
    "### Getting the weights & intercept from the last iteration"
   ]
  },
  {
   "cell_type": "code",
   "execution_count": 12,
   "metadata": {},
   "outputs": [
    {
     "data": {
      "text/html": [
       "<div>\n",
       "<style scoped>\n",
       "    .dataframe tbody tr th:only-of-type {\n",
       "        vertical-align: middle;\n",
       "    }\n",
       "\n",
       "    .dataframe tbody tr th {\n",
       "        vertical-align: top;\n",
       "    }\n",
       "\n",
       "    .dataframe thead th {\n",
       "        text-align: right;\n",
       "    }\n",
       "</style>\n",
       "<table border=\"1\" class=\"dataframe\">\n",
       "  <thead>\n",
       "    <tr style=\"text-align: right;\">\n",
       "      <th></th>\n",
       "      <th>errors</th>\n",
       "      <th>gradients</th>\n",
       "      <th>weights</th>\n",
       "      <th>ind</th>\n",
       "    </tr>\n",
       "  </thead>\n",
       "  <tbody>\n",
       "    <tr>\n",
       "      <th>99</th>\n",
       "      <td>4.648743</td>\n",
       "      <td>[2.3452999999999995, 0.5241, 2.9909999999999997]</td>\n",
       "      <td>[0.3021, 0.3015, 0.2991]</td>\n",
       "      <td>99</td>\n",
       "    </tr>\n",
       "  </tbody>\n",
       "</table>\n",
       "</div>"
      ],
      "text/plain": [
       "      errors                                         gradients  \\\n",
       "99  4.648743  [2.3452999999999995, 0.5241, 2.9909999999999997]   \n",
       "\n",
       "                     weights  ind  \n",
       "99  [0.3021, 0.3015, 0.2991]   99  "
      ]
     },
     "execution_count": 12,
     "metadata": {},
     "output_type": "execute_result"
    }
   ],
   "source": [
    "ml_dataset[ml_dataset.ind==99]"
   ]
  },
  {
   "cell_type": "markdown",
   "metadata": {},
   "source": [
    "### Our equation becomes what is shown below"
   ]
  },
  {
   "cell_type": "markdown",
   "metadata": {},
   "source": [
    "### income_pred = age \\* 0.3021 + experience \\* 0.3015 + 0.2991\n",
    "##### here age and experience are standardized values"
   ]
  },
  {
   "cell_type": "markdown",
   "metadata": {},
   "source": [
    "### Predicting for age 36 and experience 12"
   ]
  },
  {
   "cell_type": "markdown",
   "metadata": {},
   "source": [
    "### Standardizing Values and Substitue in above eqaution to get predicted income"
   ]
  },
  {
   "cell_type": "code",
   "execution_count": 13,
   "metadata": {},
   "outputs": [],
   "source": [
    "### Code 4.6\n",
    "age_conv = (36 - dict1[\"age\"][\"mean1\"])/dict1[\"age\"][\"stdev\"]\n",
    "exp_conv = (12- dict1[\"experience\"][\"mean1\"])/dict1[\"experience\"][\"stdev\"]"
   ]
  },
  {
   "cell_type": "code",
   "execution_count": 14,
   "metadata": {},
   "outputs": [
    {
     "data": {
      "text/plain": [
       "(0.09787003658578391, 0.9891004919611719)"
      ]
     },
     "execution_count": 14,
     "metadata": {},
     "output_type": "execute_result"
    }
   ],
   "source": [
    "age_conv,exp_conv"
   ]
  },
  {
   "cell_type": "code",
   "execution_count": 15,
   "metadata": {},
   "outputs": [],
   "source": [
    "### Code 4.7\n",
    "std_amount = age_conv*0.3021 + exp_conv*0.3015 + 0.2991"
   ]
  },
  {
   "cell_type": "code",
   "execution_count": 16,
   "metadata": {},
   "outputs": [
    {
     "data": {
      "text/plain": [
       "0.6268803363788586"
      ]
     },
     "execution_count": 16,
     "metadata": {},
     "output_type": "execute_result"
    }
   ],
   "source": [
    "std_amount"
   ]
  },
  {
   "cell_type": "code",
   "execution_count": 17,
   "metadata": {},
   "outputs": [],
   "source": [
    "##get final amount as final income for standardized age and experience \n",
    "### code 4.8\n",
    "final_amount = (std_amount*dict1[\"amount in lakhs\"][\"stdev\"]) + dict1[\"amount in lakhs\"][\"mean1\"]"
   ]
  },
  {
   "cell_type": "code",
   "execution_count": 18,
   "metadata": {},
   "outputs": [
    {
     "data": {
      "text/plain": [
       "51.89147495800513"
      ]
     },
     "execution_count": 18,
     "metadata": {},
     "output_type": "execute_result"
    }
   ],
   "source": [
    "final_amount"
   ]
  }
 ],
 "metadata": {
  "kernelspec": {
   "display_name": "Python 3",
   "language": "python",
   "name": "python3"
  },
  "language_info": {
   "codemirror_mode": {
    "name": "ipython",
    "version": 3
   },
   "file_extension": ".py",
   "mimetype": "text/x-python",
   "name": "python",
   "nbconvert_exporter": "python",
   "pygments_lexer": "ipython3",
   "version": "3.6.5"
  }
 },
 "nbformat": 4,
 "nbformat_minor": 2
}
